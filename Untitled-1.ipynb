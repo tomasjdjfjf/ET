{
 "cells": [
  {
   "cell_type": "code",
   "execution_count": 52,
   "metadata": {},
   "outputs": [
    {
     "name": "stdout",
     "output_type": "stream",
     "text": [
      "*** MENU PRINCIPAL *** \n",
      "1. Stock marca. \n",
      "2. Búsqueda por precio. \n",
      "3. Actualizar precio. \n",
      "4. Salir. \n",
      "El modelo no existe!!\n",
      "El modelo no existe!!\n",
      "*** MENU PRINCIPAL *** \n",
      "1. Stock marca. \n",
      "2. Búsqueda por precio. \n",
      "3. Actualizar precio. \n",
      "4. Salir. \n",
      "Programa finalizado. \n"
     ]
    }
   ],
   "source": [
    "#productos = {modelo: [marca, pantalla, RAM, disco, GB de DD, procesador, video], \n",
    "productos = {'8475HD': ['HP', 15.6, '8GB', 'DD', '1T', 'Intel Core i5', 'Nvidia GTX1050'],\n",
    "'2175HD': ['lenovo', 14, '4GB', 'SSD', '512GB', 'Intel Core i5', 'Nvidia GTX1050'],\n",
    "'JjfFHD': ['Asus', 14, '16GB', 'SSD', '256GB', 'Intel Core i7', 'Nvidia RTX2080Ti'],\n",
    "'fgdxFHD': ['HP', 15.6, '8GB', 'DD', '1T', 'Intel Core i3', 'integrada'],\n",
    "'123FHD': ['lenovo', 14, '6GB', 'DD', '1T', 'AMD Ryzen 5', 'integrada'],\n",
    "'342FHD': ['lenovo', 15.6, '8GB', 'DD', '1T', 'AMD Ryzen 7', 'Nvidia GTX1050'],\n",
    "'UWU131HD': ['Dell', 15.6, '8GB', 'DD', '1T', 'AMD Ryzen 3', 'Nvidia GTX1050'],}\n",
    "#stock = {modelo: [precio, stock], ...] \n",
    "stock = {'8475HD': [387990,10], '2175HD': [327990,4], 'JjfFHD': [424990,1], 'fgdxFHD': [664990,21], 'GF75HD': [749990,2],'123FHD': [290890,32], '342FHD': [444990,7], 'UWU131HD': [349990,1]}  \n",
    "\n",
    "def stock_marca(marca):\n",
    "    marca=marca.lower()##Ajustar mayusculas\n",
    "    if marca=='hp': marca='HP'\n",
    "    elif marca=='asus': marca='Asus' \n",
    "    elif marca=='dell': marca='Dell'\n",
    "\n",
    "    marca_codigo=[]\n",
    "    for codigo in productos:\n",
    "        if marca in productos[codigo]:\n",
    "            marca_codigo.append(codigo) ##Obtener keys que contienen la marca\n",
    "    total_stock=0\n",
    "    for modelo in marca_codigo: \n",
    "        total_stock+=(stock[modelo])[1]##Sumar stock total\n",
    "    if total_stock!=0: print(f'El stock es: {total_stock} ')\n",
    "    else: print('Marca invalida')\n",
    "\n",
    "def busqueda_precio(p_min, p_max):\n",
    "    lista_productos=[]\n",
    "    for modelo in stock:\n",
    "        if (stock[modelo])[0]>=p_min and (stock[modelo])[0]<=p_max:\n",
    "            if (stock[modelo])[1]>0:    \n",
    "                marca=(productos[modelo])[0]\n",
    "                añadir=f'{marca}--{modelo}'\n",
    "                lista_productos.append(añadir)\n",
    "                lista_productos.sort()\n",
    "    if lista_productos!=[]: print(lista_productos)##Comprobar si se cambio la lista\n",
    "    else: print('No hay notebooks en ese rango de precios.')\n",
    "\n",
    "def actualizar_precio(modelo, p):\n",
    "    while True:\n",
    "        if modelo in stock:\n",
    "            (stock[modelo])[0] = p ##Ajustar precio\n",
    "            print('Precio actualizado!! ')\n",
    "        else: print('El modelo no existe!!')\n",
    "        while True:\n",
    "            seg=input('Desea actualizar otro precio de notebook.? (Si o No)')\n",
    "            seg.lower()##Ajustar respuesta\n",
    "            if seg=='si': break\n",
    "            elif seg=='no': return\n",
    "            else:print('Ingrese Si o No')\n",
    "        try:\n",
    "            while True:\n",
    "                modelo=input('Ingrese modelo a actualizar: ') ##Pedir nuevos datos\n",
    "                p=int(input('Ingrese precio nuevo: '))\n",
    "                break\n",
    "        except:print('Ingrese numero para el precio')\n",
    "\n",
    "while True:\n",
    "    try:\n",
    "        print('''*** MENU PRINCIPAL *** \n",
    "1. Stock marca. \n",
    "2. Búsqueda por precio. \n",
    "3. Actualizar precio. \n",
    "4. Salir. ''')\n",
    "        opc=int(input('Ingrese opción: '))\n",
    "        try:\n",
    "            if opc==1: stock_marca(input('Ingrese marca a consultar: '))\n",
    "            elif opc==2: busqueda_precio(int(input('Ingrese precio mínimo: ')), int(input('Ingrese precio máximo: ')))\n",
    "            elif opc==3: actualizar_precio(input('Ingrese modelo a actualizar: '), int(input('Ingrese precio nuevo: ')))\n",
    "            elif opc==4: break\n",
    "            else: print('Debe seleccionar una opción válida!! ')\n",
    "        except: print('Ingrese un numero entero')##Comprobar datos ingresados a funcion son numeros\n",
    "    except: print('Ingrese un numero')\n",
    "print('Programa finalizado. ')"
   ]
  },
  {
   "cell_type": "code",
   "execution_count": 15,
   "metadata": {},
   "outputs": [
    {
     "name": "stdout",
     "output_type": "stream",
     "text": [
      "8475HD\n",
      "2175HD\n",
      "JjfFHD\n",
      "fgdxFHD\n",
      "GF75HD\n",
      "123FHD\n",
      "342FHD\n",
      "UWU131HD\n"
     ]
    }
   ],
   ]
  },
  {
   "cell_type": "code",
   "execution_count": 30,
   "metadata": {},
   "outputs": [
    {
     "name": "stdout",
     "output_type": "stream",
     "text": [
      "26\n"
     ]
    }
   ],
   "source": [
    "num='asdasd'\n",
    "num.upper()\n",
    "print(num+3)"
   ]
  }
 ],
 "metadata": {
  "kernelspec": {
   "display_name": "Python 3",
   "language": "python",
   "name": "python3"
  },
  "language_info": {
   "codemirror_mode": {
    "name": "ipython",
    "version": 3
   },
   "file_extension": ".py",
   "mimetype": "text/x-python",
   "name": "python",
   "nbconvert_exporter": "python",
   "pygments_lexer": "ipython3",
   "version": "3.12.4"
  }
 },
 "nbformat": 4,
 "nbformat_minor": 2
}
